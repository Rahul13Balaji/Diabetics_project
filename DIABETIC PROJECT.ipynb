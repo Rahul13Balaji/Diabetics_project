{
 "cells": [
  {
   "cell_type": "markdown",
   "id": "23673bca",
   "metadata": {},
   "source": [
    "# part 1 supervised learning"
   ]
  },
  {
   "cell_type": "code",
   "execution_count": 20,
   "id": "1f566a16",
   "metadata": {},
   "outputs": [],
   "source": [
    "#import the libararies\n",
    "import numpy as np\n",
    "import pandas as pd\n",
    "import matplotlib.pyplot as plt \n",
    "import seaborn as sns"
   ]
  },
  {
   "cell_type": "code",
   "execution_count": 21,
   "id": "72a46bf1",
   "metadata": {},
   "outputs": [
    {
     "name": "stdout",
     "output_type": "stream",
     "text": [
      "                                       Gene Description Gene Accession Number  \\\n",
      "0                   AFFX-BioB-5_at (endogenous control)        AFFX-BioB-5_at   \n",
      "1                   AFFX-BioB-M_at (endogenous control)        AFFX-BioB-M_at   \n",
      "2                   AFFX-BioB-3_at (endogenous control)        AFFX-BioB-3_at   \n",
      "3                   AFFX-BioC-5_at (endogenous control)        AFFX-BioC-5_at   \n",
      "4                   AFFX-BioC-3_at (endogenous control)        AFFX-BioC-3_at   \n",
      "...                                                 ...                   ...   \n",
      "7124  PTGER3 Prostaglandin E receptor 3 (subtype EP3...             X83863_at   \n",
      "7125  HMG2 High-mobility group (nonhistone chromosom...             Z17240_at   \n",
      "7126      RB1 Retinoblastoma 1 (including osteosarcoma)           L49218_f_at   \n",
      "7127  GB DEF = Glycophorin Sta (type A) exons 3 and ...           M71243_f_at   \n",
      "7128                          GB DEF = mRNA (clone 1A7)           Z78285_f_at   \n",
      "\n",
      "          1    2     3      4    5      6     7     8  ...   63   64   65  \\\n",
      "0    -214.0 -139   -76 -135.0 -106 -138.0   -72  -413  ... -161  -48  -62   \n",
      "1    -153.0  -73   -49 -114.0 -125  -85.0  -144  -260  ... -215 -531 -198   \n",
      "2     -58.0   -1  -307  265.0  -76  215.0   238     7  ...  -46 -124   -5   \n",
      "3      88.0  283   309   12.0  168   71.0    55    -2  ...  146  431  141   \n",
      "4    -295.0 -264  -376 -419.0 -230 -272.0  -399  -541  ... -172 -496 -256   \n",
      "...     ...  ...   ...    ...  ...    ...   ...   ...  ...  ...  ...  ...   \n",
      "7124  793.0  782  1138  627.0  250  645.0  1140  1799  ...  809  466  707   \n",
      "7125  329.0  295   777  170.0  314  341.0   482   446  ...  445  349  354   \n",
      "7126   36.0   11    41  -50.0   14   26.0    10    59  ...   -2    0  -22   \n",
      "7127  191.0   76   228  126.0   56  193.0   369   781  ...  210  284  260   \n",
      "7128  -37.0  -14   -41  -91.0  -25  -53.0   -42    20  ...   16  -73    5   \n",
      "\n",
      "        66   67   68   69   70   71   72  \n",
      "0      -58  -76 -154  -79  -55  -59 -131  \n",
      "1     -217  -98 -136 -118  -44 -114 -126  \n",
      "2       63 -153   49  -30   12   23  -50  \n",
      "3       95  237  180   68  129  146  211  \n",
      "4     -191 -215 -257 -110 -108 -171 -206  \n",
      "...    ...  ...  ...  ...  ...  ...  ...  \n",
      "7124   423  441  524  742  320  348  874  \n",
      "7125    41   99  249  234  174  208  393  \n",
      "7126     0   -8   40   72   -4    0   34  \n",
      "7127  1777   80  -68  109  176   74  237  \n",
      "7128   -49  -12   -1  -30   40  -12   -2  \n",
      "\n",
      "[7129 rows x 74 columns]\n",
      "    patient cancer\n",
      "0         1    ALL\n",
      "1         2    ALL\n",
      "2         3    ALL\n",
      "3         4    ALL\n",
      "4         5    ALL\n",
      "..      ...    ...\n",
      "67       68    ALL\n",
      "68       69    ALL\n",
      "69       70    ALL\n",
      "70       71    ALL\n",
      "71       72    ALL\n",
      "\n",
      "[72 rows x 2 columns]\n"
     ]
    }
   ],
   "source": [
    "#import dataset \n",
    "data=pd.read_csv(\"CW2_dataset.csv\")\n",
    "print(data)\n",
    "data_1=pd.read_csv(\"CW2_dataset_PatientID_labels.csv\")\n",
    "print(data_1)"
   ]
  },
  {
   "cell_type": "code",
   "execution_count": 22,
   "id": "ca8179c8",
   "metadata": {},
   "outputs": [
    {
     "data": {
      "text/plain": [
       "Index(['1', '4', '6', '11', '21', '22', '29', '34', '44', '45', '46'], dtype='object')"
      ]
     },
     "execution_count": 22,
     "metadata": {},
     "output_type": "execute_result"
    }
   ],
   "source": [
    "#checking for missing values\n",
    "a=data.columns[data.isnull().any()]\n",
    "a"
   ]
  },
  {
   "cell_type": "code",
   "execution_count": 23,
   "id": "bd060312",
   "metadata": {},
   "outputs": [],
   "source": [
    "data['1'].fillna((data['1'].mean()), inplace=True)\n",
    "data[\"1\"].isnull().sum()\n",
    "data['4'].fillna((data['4'].mean()), inplace=True)\n",
    "data['6'].fillna((data['6'].mean()), inplace=True)\n",
    "data['11'].fillna((data['11'].mean()), inplace=True)\n",
    "data['21'].fillna((data['21'].mean()), inplace=True)\n",
    "data['22'].fillna((data['22'].mean()), inplace=True)\n",
    "data['29'].fillna((data['29'].mean()), inplace=True)\n",
    "data['34'].fillna((data['34'].mean()), inplace=True)\n",
    "data['44'].fillna((data['44'].mean()), inplace=True)\n",
    "data['45'].fillna((data['45'].mean()), inplace=True)\n",
    "data['46'].fillna((data['46'].mean()), inplace=True)"
   ]
  },
  {
   "cell_type": "code",
   "execution_count": 24,
   "id": "04be27b2",
   "metadata": {},
   "outputs": [
    {
     "data": {
      "text/plain": [
       "Gene Description          object\n",
       "Gene Accession Number     object\n",
       "1                        float64\n",
       "2                          int64\n",
       "3                          int64\n",
       "                          ...   \n",
       "68                         int64\n",
       "69                         int64\n",
       "70                         int64\n",
       "71                         int64\n",
       "72                         int64\n",
       "Length: 74, dtype: object"
      ]
     },
     "metadata": {},
     "output_type": "display_data"
    },
    {
     "name": "stdout",
     "output_type": "stream",
     "text": [
      "<class 'pandas.core.frame.DataFrame'>\n",
      "RangeIndex: 7129 entries, 0 to 7128\n",
      "Data columns (total 74 columns):\n",
      " #   Column                 Non-Null Count  Dtype  \n",
      "---  ------                 --------------  -----  \n",
      " 0   Gene Description       7129 non-null   object \n",
      " 1   Gene Accession Number  7129 non-null   object \n",
      " 2   1                      7129 non-null   float64\n",
      " 3   2                      7129 non-null   int64  \n",
      " 4   3                      7129 non-null   int64  \n",
      " 5   4                      7129 non-null   float64\n",
      " 6   5                      7129 non-null   int64  \n",
      " 7   6                      7129 non-null   float64\n",
      " 8   7                      7129 non-null   int64  \n",
      " 9   8                      7129 non-null   int64  \n",
      " 10  9                      7129 non-null   int64  \n",
      " 11  10                     7129 non-null   int64  \n",
      " 12  11                     7129 non-null   float64\n",
      " 13  12                     7129 non-null   int64  \n",
      " 14  13                     7129 non-null   int64  \n",
      " 15  14                     7129 non-null   int64  \n",
      " 16  15                     7129 non-null   int64  \n",
      " 17  16                     7129 non-null   int64  \n",
      " 18  17                     7129 non-null   int64  \n",
      " 19  18                     7129 non-null   int64  \n",
      " 20  19                     7129 non-null   int64  \n",
      " 21  20                     7129 non-null   int64  \n",
      " 22  21                     7129 non-null   float64\n",
      " 23  22                     7129 non-null   float64\n",
      " 24  23                     7129 non-null   int64  \n",
      " 25  24                     7129 non-null   int64  \n",
      " 26  25                     7129 non-null   int64  \n",
      " 27  26                     7129 non-null   int64  \n",
      " 28  27                     7129 non-null   int64  \n",
      " 29  28                     7129 non-null   int64  \n",
      " 30  29                     7129 non-null   float64\n",
      " 31  30                     7129 non-null   int64  \n",
      " 32  31                     7129 non-null   int64  \n",
      " 33  32                     7129 non-null   int64  \n",
      " 34  33                     7129 non-null   int64  \n",
      " 35  34                     7129 non-null   float64\n",
      " 36  35                     7129 non-null   int64  \n",
      " 37  36                     7129 non-null   int64  \n",
      " 38  37                     7129 non-null   int64  \n",
      " 39  38                     7129 non-null   int64  \n",
      " 40  39                     7129 non-null   int64  \n",
      " 41  40                     7129 non-null   int64  \n",
      " 42  41                     7129 non-null   int64  \n",
      " 43  42                     7129 non-null   int64  \n",
      " 44  43                     7129 non-null   int64  \n",
      " 45  44                     7129 non-null   float64\n",
      " 46  45                     7129 non-null   float64\n",
      " 47  46                     7129 non-null   float64\n",
      " 48  47                     7129 non-null   int64  \n",
      " 49  48                     7129 non-null   int64  \n",
      " 50  49                     7129 non-null   int64  \n",
      " 51  50                     7129 non-null   int64  \n",
      " 52  51                     7129 non-null   int64  \n",
      " 53  52                     7129 non-null   int64  \n",
      " 54  53                     7129 non-null   int64  \n",
      " 55  54                     7129 non-null   int64  \n",
      " 56  55                     7129 non-null   int64  \n",
      " 57  56                     7129 non-null   int64  \n",
      " 58  57                     7129 non-null   int64  \n",
      " 59  58                     7129 non-null   int64  \n",
      " 60  59                     7129 non-null   int64  \n",
      " 61  60                     7129 non-null   int64  \n",
      " 62  61                     7129 non-null   int64  \n",
      " 63  62                     7129 non-null   int64  \n",
      " 64  63                     7129 non-null   int64  \n",
      " 65  64                     7129 non-null   int64  \n",
      " 66  65                     7129 non-null   int64  \n",
      " 67  66                     7129 non-null   int64  \n",
      " 68  67                     7129 non-null   int64  \n",
      " 69  68                     7129 non-null   int64  \n",
      " 70  69                     7129 non-null   int64  \n",
      " 71  70                     7129 non-null   int64  \n",
      " 72  71                     7129 non-null   int64  \n",
      " 73  72                     7129 non-null   int64  \n",
      "dtypes: float64(11), int64(61), object(2)\n",
      "memory usage: 4.0+ MB\n"
     ]
    },
    {
     "data": {
      "text/html": [
       "<div>\n",
       "<style scoped>\n",
       "    .dataframe tbody tr th:only-of-type {\n",
       "        vertical-align: middle;\n",
       "    }\n",
       "\n",
       "    .dataframe tbody tr th {\n",
       "        vertical-align: top;\n",
       "    }\n",
       "\n",
       "    .dataframe thead th {\n",
       "        text-align: right;\n",
       "    }\n",
       "</style>\n",
       "<table border=\"1\" class=\"dataframe\">\n",
       "  <thead>\n",
       "    <tr style=\"text-align: right;\">\n",
       "      <th></th>\n",
       "      <th>count</th>\n",
       "      <th>mean</th>\n",
       "      <th>std</th>\n",
       "      <th>min</th>\n",
       "      <th>25%</th>\n",
       "      <th>50%</th>\n",
       "      <th>75%</th>\n",
       "      <th>max</th>\n",
       "    </tr>\n",
       "  </thead>\n",
       "  <tbody>\n",
       "    <tr>\n",
       "      <th>1</th>\n",
       "      <td>7129.0</td>\n",
       "      <td>641.226010</td>\n",
       "      <td>2264.263028</td>\n",
       "      <td>-19826.0</td>\n",
       "      <td>-21.0</td>\n",
       "      <td>159.0</td>\n",
       "      <td>535.0</td>\n",
       "      <td>31086.0</td>\n",
       "    </tr>\n",
       "    <tr>\n",
       "      <th>2</th>\n",
       "      <td>7129.0</td>\n",
       "      <td>690.246318</td>\n",
       "      <td>2468.814372</td>\n",
       "      <td>-17930.0</td>\n",
       "      <td>-14.0</td>\n",
       "      <td>130.0</td>\n",
       "      <td>488.0</td>\n",
       "      <td>29288.0</td>\n",
       "    </tr>\n",
       "    <tr>\n",
       "      <th>3</th>\n",
       "      <td>7129.0</td>\n",
       "      <td>698.307897</td>\n",
       "      <td>2485.656277</td>\n",
       "      <td>-27182.0</td>\n",
       "      <td>-31.0</td>\n",
       "      <td>177.0</td>\n",
       "      <td>610.0</td>\n",
       "      <td>28056.0</td>\n",
       "    </tr>\n",
       "    <tr>\n",
       "      <th>4</th>\n",
       "      <td>7129.0</td>\n",
       "      <td>600.972643</td>\n",
       "      <td>2340.047185</td>\n",
       "      <td>-23396.0</td>\n",
       "      <td>-33.0</td>\n",
       "      <td>139.0</td>\n",
       "      <td>497.0</td>\n",
       "      <td>31449.0</td>\n",
       "    </tr>\n",
       "    <tr>\n",
       "      <th>5</th>\n",
       "      <td>7129.0</td>\n",
       "      <td>679.532894</td>\n",
       "      <td>2375.895416</td>\n",
       "      <td>-10339.0</td>\n",
       "      <td>8.0</td>\n",
       "      <td>146.0</td>\n",
       "      <td>471.0</td>\n",
       "      <td>29543.0</td>\n",
       "    </tr>\n",
       "    <tr>\n",
       "      <th>...</th>\n",
       "      <td>...</td>\n",
       "      <td>...</td>\n",
       "      <td>...</td>\n",
       "      <td>...</td>\n",
       "      <td>...</td>\n",
       "      <td>...</td>\n",
       "      <td>...</td>\n",
       "      <td>...</td>\n",
       "    </tr>\n",
       "    <tr>\n",
       "      <th>68</th>\n",
       "      <td>7129.0</td>\n",
       "      <td>734.933511</td>\n",
       "      <td>2433.042040</td>\n",
       "      <td>-12527.0</td>\n",
       "      <td>-3.0</td>\n",
       "      <td>143.0</td>\n",
       "      <td>537.0</td>\n",
       "      <td>29374.0</td>\n",
       "    </tr>\n",
       "    <tr>\n",
       "      <th>69</th>\n",
       "      <td>7129.0</td>\n",
       "      <td>744.386590</td>\n",
       "      <td>2396.618703</td>\n",
       "      <td>-10279.0</td>\n",
       "      <td>1.0</td>\n",
       "      <td>154.0</td>\n",
       "      <td>554.0</td>\n",
       "      <td>26073.0</td>\n",
       "    </tr>\n",
       "    <tr>\n",
       "      <th>70</th>\n",
       "      <td>7129.0</td>\n",
       "      <td>520.213354</td>\n",
       "      <td>2362.872338</td>\n",
       "      <td>-11535.0</td>\n",
       "      <td>-17.0</td>\n",
       "      <td>75.0</td>\n",
       "      <td>293.0</td>\n",
       "      <td>39827.0</td>\n",
       "    </tr>\n",
       "    <tr>\n",
       "      <th>71</th>\n",
       "      <td>7129.0</td>\n",
       "      <td>575.054987</td>\n",
       "      <td>2309.515245</td>\n",
       "      <td>-10873.0</td>\n",
       "      <td>-6.0</td>\n",
       "      <td>108.0</td>\n",
       "      <td>375.0</td>\n",
       "      <td>28409.0</td>\n",
       "    </tr>\n",
       "    <tr>\n",
       "      <th>72</th>\n",
       "      <td>7129.0</td>\n",
       "      <td>617.254454</td>\n",
       "      <td>2302.908490</td>\n",
       "      <td>-8646.0</td>\n",
       "      <td>-11.0</td>\n",
       "      <td>129.0</td>\n",
       "      <td>434.0</td>\n",
       "      <td>32358.0</td>\n",
       "    </tr>\n",
       "  </tbody>\n",
       "</table>\n",
       "<p>72 rows × 8 columns</p>\n",
       "</div>"
      ],
      "text/plain": [
       "     count        mean          std      min   25%    50%    75%      max\n",
       "1   7129.0  641.226010  2264.263028 -19826.0 -21.0  159.0  535.0  31086.0\n",
       "2   7129.0  690.246318  2468.814372 -17930.0 -14.0  130.0  488.0  29288.0\n",
       "3   7129.0  698.307897  2485.656277 -27182.0 -31.0  177.0  610.0  28056.0\n",
       "4   7129.0  600.972643  2340.047185 -23396.0 -33.0  139.0  497.0  31449.0\n",
       "5   7129.0  679.532894  2375.895416 -10339.0   8.0  146.0  471.0  29543.0\n",
       "..     ...         ...          ...      ...   ...    ...    ...      ...\n",
       "68  7129.0  734.933511  2433.042040 -12527.0  -3.0  143.0  537.0  29374.0\n",
       "69  7129.0  744.386590  2396.618703 -10279.0   1.0  154.0  554.0  26073.0\n",
       "70  7129.0  520.213354  2362.872338 -11535.0 -17.0   75.0  293.0  39827.0\n",
       "71  7129.0  575.054987  2309.515245 -10873.0  -6.0  108.0  375.0  28409.0\n",
       "72  7129.0  617.254454  2302.908490  -8646.0 -11.0  129.0  434.0  32358.0\n",
       "\n",
       "[72 rows x 8 columns]"
      ]
     },
     "execution_count": 24,
     "metadata": {},
     "output_type": "execute_result"
    }
   ],
   "source": [
    "display(data.dtypes)\n",
    "data.info()\n",
    "data.describe().T #datasets are described in this step"
   ]
  },
  {
   "cell_type": "code",
   "execution_count": 25,
   "id": "fde4d6f3",
   "metadata": {},
   "outputs": [
    {
     "name": "stdout",
     "output_type": "stream",
     "text": [
      "     0      1      2      3      4      5      6      7      8      9     ...  \\\n",
      "1  -214.0 -153.0  -58.0   88.0 -295.0 -558.0  199.0 -176.0  252.0  206.0  ...   \n",
      "2  -139.0  -73.0   -1.0  283.0 -264.0 -400.0 -330.0 -168.0  101.0   74.0  ...   \n",
      "3   -76.0  -49.0 -307.0  309.0 -376.0 -650.0   33.0 -367.0  206.0 -215.0  ...   \n",
      "4  -135.0 -114.0  265.0   12.0 -419.0 -585.0  158.0 -253.0   49.0   31.0  ...   \n",
      "5  -106.0 -125.0  -76.0  168.0 -230.0 -284.0    4.0 -122.0   70.0  252.0  ...   \n",
      "..    ...    ...    ...    ...    ...    ...    ...    ...    ...    ...  ...   \n",
      "68 -154.0 -136.0   49.0  180.0 -257.0 -273.0  141.0 -123.0   52.0  878.0  ...   \n",
      "69  -79.0 -118.0  -30.0   68.0 -110.0 -264.0  -28.0  -61.0   40.0 -217.0  ...   \n",
      "70  -55.0  -44.0   12.0  129.0 -108.0 -301.0 -222.0 -133.0  136.0  320.0  ...   \n",
      "71  -59.0 -114.0   23.0  146.0 -171.0 -227.0  -73.0 -126.0   -6.0  149.0  ...   \n",
      "72 -131.0 -126.0  -50.0  211.0 -206.0 -287.0  -34.0 -114.0   62.0  341.0  ...   \n",
      "\n",
      "     7119    7120   7121    7122   7123    7124   7125  7126   7127  7128  \n",
      "1   185.0   511.0 -125.0   389.0  -37.0   793.0  329.0  36.0  191.0 -37.0  \n",
      "2   169.0   837.0  -36.0   442.0  -17.0   782.0  295.0  11.0   76.0 -14.0  \n",
      "3   315.0  1199.0   33.0   168.0   52.0  1138.0  777.0  41.0  228.0 -41.0  \n",
      "4   240.0   835.0  218.0   174.0 -110.0   627.0  170.0 -50.0  126.0 -91.0  \n",
      "5   156.0   649.0   57.0   504.0  -26.0   250.0  314.0  14.0   56.0 -25.0  \n",
      "..    ...     ...    ...     ...    ...     ...    ...   ...    ...   ...  \n",
      "68  214.0   540.0   13.0  1075.0  -45.0   524.0  249.0  40.0  -68.0  -1.0  \n",
      "69  409.0   617.0  -34.0   738.0   11.0   742.0  234.0  72.0  109.0 -30.0  \n",
      "70  131.0   318.0   35.0   241.0  -66.0   320.0  174.0  -4.0  176.0  40.0  \n",
      "71  214.0   760.0  -38.0   201.0  -55.0   348.0  208.0   0.0   74.0 -12.0  \n",
      "72  206.0   697.0    3.0  1046.0   27.0   874.0  393.0  34.0  237.0  -2.0  \n",
      "\n",
      "[72 rows x 7129 columns]\n"
     ]
    }
   ],
   "source": [
    "colmns=['Gene Description','Gene Accession Number']#dropping these two columns \n",
    "b=data.drop(columns=colmns)\n",
    "c=b.T\n",
    "print(c)"
   ]
  },
  {
   "cell_type": "code",
   "execution_count": 26,
   "id": "6509bfde",
   "metadata": {},
   "outputs": [
    {
     "name": "stdout",
     "output_type": "stream",
     "text": [
      "0     0\n",
      "1     0\n",
      "2     0\n",
      "3     0\n",
      "4     0\n",
      "     ..\n",
      "67    0\n",
      "68    0\n",
      "69    0\n",
      "70    0\n",
      "71    0\n",
      "Name: cancer, Length: 72, dtype: int32\n"
     ]
    },
    {
     "data": {
      "text/plain": [
       "0    47\n",
       "1    25\n",
       "Name: cancer, dtype: int64"
      ]
     },
     "execution_count": 26,
     "metadata": {},
     "output_type": "execute_result"
    }
   ],
   "source": [
    "#Encoding the catergorical data\n",
    "from sklearn.preprocessing import LabelEncoder\n",
    "encode=LabelEncoder()\n",
    "data_1[\"cancer\"]=encode.fit_transform(data_1[\"cancer\"])\n",
    "\n",
    "print(data_1[\"cancer\"])\n",
    "data_1[\"cancer\"].value_counts()"
   ]
  },
  {
   "cell_type": "code",
   "execution_count": 27,
   "id": "82a795b6",
   "metadata": {},
   "outputs": [],
   "source": [
    "#we got to know that there are 2 classes and it is imbalanced.so we should be using imbalance classifier"
   ]
  },
  {
   "cell_type": "code",
   "execution_count": 28,
   "id": "171301dc",
   "metadata": {},
   "outputs": [
    {
     "data": {
      "text/plain": [
       "(72, 7129)"
      ]
     },
     "execution_count": 28,
     "metadata": {},
     "output_type": "execute_result"
    }
   ],
   "source": [
    "\n",
    "new=c.join(data_1[\"cancer\"])\n",
    "new.shape\n",
    "x=new.iloc[:,:-1] #x -values\n",
    "y=data_1[\"cancer\"] #y-values\n",
    "x.shape"
   ]
  },
  {
   "cell_type": "code",
   "execution_count": 29,
   "id": "fa3bfe38",
   "metadata": {},
   "outputs": [],
   "source": [
    "#normaling the data\n",
    "from sklearn.preprocessing import MinMaxScaler as mn\n",
    "scaling=mn()\n",
    "scale=scaling.fit_transform(x)\n",
    "#scaler=scaling.transform(x)\n"
   ]
  },
  {
   "cell_type": "code",
   "execution_count": 30,
   "id": "824371cb",
   "metadata": {},
   "outputs": [],
   "source": [
    "#as we found there are lots features in this datatypes so we are applying dimensionality reduction technique for computational process\n",
    "from sklearn import decomposition\n",
    "from sklearn.decomposition import PCA\n"
   ]
  },
  {
   "cell_type": "code",
   "execution_count": 31,
   "id": "15889d41",
   "metadata": {},
   "outputs": [],
   "source": [
    "pca=decomposition.PCA()\n",
    "\n",
    "pca=PCA(n_components=72)\n"
   ]
  },
  {
   "cell_type": "code",
   "execution_count": 32,
   "id": "f1b4629a",
   "metadata": {},
   "outputs": [
    {
     "data": {
      "text/plain": [
       "PCA(n_components=72)"
      ]
     },
     "execution_count": 32,
     "metadata": {},
     "output_type": "execute_result"
    }
   ],
   "source": [
    "pca.fit(scale)"
   ]
  },
  {
   "cell_type": "code",
   "execution_count": 33,
   "id": "59a71473",
   "metadata": {},
   "outputs": [],
   "source": [
    "x_pca=pca.transform(scale)"
   ]
  },
  {
   "cell_type": "code",
   "execution_count": 34,
   "id": "a2ac5490",
   "metadata": {},
   "outputs": [
    {
     "data": {
      "text/plain": [
       "(72, 7129)"
      ]
     },
     "execution_count": 34,
     "metadata": {},
     "output_type": "execute_result"
    }
   ],
   "source": [
    "scale.shape #x_data shape before applying pca"
   ]
  },
  {
   "cell_type": "code",
   "execution_count": 35,
   "id": "b86fc2b9",
   "metadata": {},
   "outputs": [
    {
     "data": {
      "text/plain": [
       "(72, 72)"
      ]
     },
     "execution_count": 35,
     "metadata": {},
     "output_type": "execute_result"
    }
   ],
   "source": [
    "x_pca.shape  #x_data shape after applying pca"
   ]
  },
  {
   "cell_type": "code",
   "execution_count": 36,
   "id": "c8e134d8",
   "metadata": {},
   "outputs": [
    {
     "data": {
      "text/plain": [
       "1.0"
      ]
     },
     "execution_count": 36,
     "metadata": {},
     "output_type": "execute_result"
    }
   ],
   "source": [
    "#when we are applying pca there are possiblity of losing the important information given in dataset \n",
    "#so it is better to check that we have retained all information after pca \n",
    "pca.explained_variance_ratio_.sum()"
   ]
  },
  {
   "cell_type": "code",
   "execution_count": 37,
   "id": "342b1afc",
   "metadata": {},
   "outputs": [
    {
     "name": "stdout",
     "output_type": "stream",
     "text": [
      "Requirement already satisfied: imblearn in c:\\users\\rahul\\anaconda3\\lib\\site-packages (0.0)\n",
      "Requirement already satisfied: imbalanced-learn in c:\\users\\rahul\\anaconda3\\lib\\site-packages (from imblearn) (0.8.1)\n",
      "Requirement already satisfied: scipy>=0.19.1 in c:\\users\\rahul\\anaconda3\\lib\\site-packages (from imbalanced-learn->imblearn) (1.7.1)\n",
      "Requirement already satisfied: scikit-learn>=0.24 in c:\\users\\rahul\\anaconda3\\lib\\site-packages (from imbalanced-learn->imblearn) (0.24.2)\n",
      "Requirement already satisfied: joblib>=0.11 in c:\\users\\rahul\\anaconda3\\lib\\site-packages (from imbalanced-learn->imblearn) (1.1.0)\n",
      "Requirement already satisfied: numpy>=1.13.3 in c:\\users\\rahul\\anaconda3\\lib\\site-packages (from imbalanced-learn->imblearn) (1.20.3)\n",
      "Requirement already satisfied: threadpoolctl>=2.0.0 in c:\\users\\rahul\\anaconda3\\lib\\site-packages (from scikit-learn>=0.24->imbalanced-learn->imblearn) (2.2.0)\n"
     ]
    }
   ],
   "source": [
    "# as we mentioned previously that we got imbalanced dataset. we need to imbalance learn\n",
    "!pip install imblearn\n",
    "from imblearn.over_sampling import SMOTE\n",
    "\n",
    "from sklearn.model_selection import train_test_split\n",
    "\n",
    "X_train, X_test, y_train, y_test = train_test_split(x_pca, y, test_size=0.20, random_state=4)"
   ]
  },
  {
   "cell_type": "code",
   "execution_count": 38,
   "id": "56c63290",
   "metadata": {},
   "outputs": [
    {
     "name": "stdout",
     "output_type": "stream",
     "text": [
      "BeforeSampling, counts '1': 19\n",
      "BeforeSampling, counts '0': 38 \n",
      "\n"
     ]
    }
   ],
   "source": [
    "print(\"BeforeSampling, counts '1': {}\".format(sum(y_train==1)))\n",
    "print(\"BeforeSampling, counts '0': {} \\n\".format(sum(y_train==0)))\n"
   ]
  },
  {
   "cell_type": "code",
   "execution_count": 39,
   "id": "6234ea65",
   "metadata": {},
   "outputs": [],
   "source": [
    "smo = SMOTE(random_state=2)\n",
    "X_train_1, y_train_1 = smo.fit_resample(X_train, y_train.ravel())"
   ]
  },
  {
   "cell_type": "code",
   "execution_count": 40,
   "id": "1c880dcb",
   "metadata": {},
   "outputs": [
    {
     "name": "stdout",
     "output_type": "stream",
     "text": [
      "AfterSampling, counts  '1': 38\n",
      "AfterSampling, counts '0': 38\n"
     ]
    }
   ],
   "source": [
    "print(\"AfterSampling, counts  '1': {}\".format(sum(y_train_1==1)))\n",
    "print(\"AfterSampling, counts '0': {}\".format(sum(y_train_1==0)))"
   ]
  },
  {
   "cell_type": "code",
   "execution_count": 41,
   "id": "e550e151",
   "metadata": {},
   "outputs": [
    {
     "data": {
      "text/plain": [
       "KNeighborsClassifier()"
      ]
     },
     "execution_count": 41,
     "metadata": {},
     "output_type": "execute_result"
    }
   ],
   "source": [
    "#K-NEAREST NEIGHBOUR\n",
    "from sklearn.neighbors import KNeighborsClassifier\n",
    "classifier = KNeighborsClassifier(n_neighbors=5)\n",
    "classifier.fit(X_train_1, y_train_1)"
   ]
  },
  {
   "cell_type": "code",
   "execution_count": 42,
   "id": "db7958e8",
   "metadata": {},
   "outputs": [],
   "source": [
    "y_pred = classifier.predict(X_test)"
   ]
  },
  {
   "cell_type": "code",
   "execution_count": 45,
   "id": "ffd88581",
   "metadata": {},
   "outputs": [
    {
     "name": "stdout",
     "output_type": "stream",
     "text": [
      "              precision    recall  f1-score   support\n",
      "\n",
      "           0       1.00      0.78      0.88         9\n",
      "           1       0.75      1.00      0.86         6\n",
      "\n",
      "    accuracy                           0.87        15\n",
      "   macro avg       0.88      0.89      0.87        15\n",
      "weighted avg       0.90      0.87      0.87        15\n",
      "\n"
     ]
    }
   ],
   "source": [
    "#METRICS \n",
    "from sklearn import metrics\n",
    "from sklearn.metrics import classification_report, confusion_matrix\n",
    "\n",
    "conf=confusion_matrix(y_test, y_pred)\n",
    "print(classification_report(y_test, y_pred))\n",
    "\n",
    "\n"
   ]
  },
  {
   "cell_type": "code",
   "execution_count": 46,
   "id": "d7cd2663",
   "metadata": {},
   "outputs": [
    {
     "name": "stdout",
     "output_type": "stream",
     "text": [
      "[[7 2]\n",
      " [0 6]]\n",
      "0.8888888888888888\n"
     ]
    },
    {
     "data": {
      "image/png": "[encoded data removed]",
      "text/plain": [
       "<Figure size 432x288 with 2 Axes>"
      ]
     },
     "metadata": {
      "needs_background": "light"
     },
     "output_type": "display_data"
    }
   ],
   "source": [
    "print(conf)\n",
    "p = sns.heatmap(pd.DataFrame(conf), annot=True, cmap=\"RdPu\" )\n",
    "plt.title('Confusion matrix', y=1.1)\n",
    "plt.ylabel('Actual label')\n",
    "plt.xlabel('Predicted label')\n",
    "auc_knn = metrics.roc_auc_score(y_test, y_pred) #AUC finding\n",
    "print(auc_knn)"
   ]
  },
  {
   "cell_type": "code",
   "execution_count": 48,
   "id": "63604849",
   "metadata": {},
   "outputs": [
    {
     "name": "stdout",
     "output_type": "stream",
     "text": [
      "Best Score:0.9216666666666666\n",
      "Best Parameters: {'n_neighbors': 2}\n",
      "my_score:\t 0.8666666666666667\n"
     ]
    }
   ],
   "source": [
    "#import GridSearchCV FOR cross validation\n",
    "from sklearn.metrics import accuracy_score\n",
    "from sklearn.model_selection import GridSearchCV\n",
    "grid = {'n_neighbors':np.arange(1,50)}\n",
    "knn = KNeighborsClassifier()\n",
    "knn_grid= GridSearchCV(classifier,grid,cv=5)\n",
    "knn_grid.fit(X_train_1,y_train_1)\n",
    "\n",
    "print(\"Best Score:\" + str(knn_grid.best_score_))\n",
    "print(\"Best Parameters: \" + str(knn_grid.best_params_))\n",
    "my_score=accuracy_score(y_test, y_pred)\n",
    "print('my_score:\\t',my_score)"
   ]
  },
  {
   "cell_type": "code",
   "execution_count": 49,
   "id": "edb91b07",
   "metadata": {},
   "outputs": [],
   "source": [
    "#SVM ALGORITHM\n",
    "from sklearn import svm\n",
    "classifier_1=svm.SVC(kernel='linear')\n",
    "classifier_1.fit(X_train_1, y_train_1)\n",
    "y_pred_1 = classifier.predict(X_test)\n"
   ]
  },
  {
   "cell_type": "code",
   "execution_count": 50,
   "id": "ce7775b9",
   "metadata": {},
   "outputs": [
    {
     "name": "stdout",
     "output_type": "stream",
     "text": [
      "Accuracy: 0.8666666666666667\n"
     ]
    }
   ],
   "source": [
    "\n",
    "from sklearn import metrics\n",
    "print(\"Accuracy:\",metrics.accuracy_score(y_test, y_pred_1))"
   ]
  },
  {
   "cell_type": "code",
   "execution_count": 51,
   "id": "9af82a02",
   "metadata": {},
   "outputs": [
    {
     "name": "stdout",
     "output_type": "stream",
     "text": [
      "Precision: 0.75\n"
     ]
    }
   ],
   "source": [
    "print(\"Precision:\",metrics.precision_score(y_test, y_pred_1))"
   ]
  },
  {
   "cell_type": "code",
   "execution_count": 52,
   "id": "7a3e5a1a",
   "metadata": {},
   "outputs": [
    {
     "name": "stdout",
     "output_type": "stream",
     "text": [
      "Recall: 1.0\n",
      "confusion matrix: [[7 2]\n",
      " [0 6]]\n"
     ]
    }
   ],
   "source": [
    "print(\"Recall:\",metrics.recall_score(y_test, y_pred_1))\n",
    "print(\"confusion matrix:\",metrics.confusion_matrix(y_test, y_pred_1))"
   ]
  },
  {
   "cell_type": "code",
   "execution_count": 53,
   "id": "9237558d",
   "metadata": {},
   "outputs": [
    {
     "name": "stdout",
     "output_type": "stream",
     "text": [
      "f1-score  0.8571428571428571\n"
     ]
    }
   ],
   "source": [
    "print('f1-score ',metrics.f1_score(y_test, y_pred_1))"
   ]
  },
  {
   "cell_type": "code",
   "execution_count": 54,
   "id": "2cbd0da8",
   "metadata": {},
   "outputs": [],
   "source": [
    "from sklearn.model_selection import GridSearchCV\n",
    "search_grid = { 'C':[0.1,1,100,1000],'kernel':['linear']}\n",
    "search=GridSearchCV(estimator= classifier_1,param_grid = search_grid, scoring = 'accuracy',cv = 5)\n",
    "grid_search = search.fit(X_train_1, y_train_1)\n",
    "               "
   ]
  },
  {
   "cell_type": "code",
   "execution_count": 55,
   "id": "bcdf26f9",
   "metadata": {},
   "outputs": [
    {
     "name": "stdout",
     "output_type": "stream",
     "text": [
      "Best Score:0.9875\n",
      "Best Parameters: {'C': 0.1, 'kernel': 'linear'}\n",
      "my_score:\t 0.8666666666666667\n"
     ]
    }
   ],
   "source": [
    "print(\"Best Score:\" + str(search.best_score_))\n",
    "print(\"Best Parameters: \" + str(search.best_params_))\n",
    "my_score1=accuracy_score(y_test, y_pred_1)\n",
    "print('my_score:\\t',my_score1)"
   ]
  },
  {
   "cell_type": "code",
   "execution_count": 56,
   "id": "a9684275",
   "metadata": {},
   "outputs": [
    {
     "name": "stdout",
     "output_type": "stream",
     "text": [
      "[[7 2]\n",
      " [0 6]]\n",
      "the auc of svm is :\t 0.8888888888888888\n"
     ]
    },
    {
     "data": {
      "image/png": "[encoded data removed]",
      "text/plain": [
       "<Figure size 432x288 with 2 Axes>"
      ]
     },
     "metadata": {
      "needs_background": "light"
     },
     "output_type": "display_data"
    }
   ],
   "source": [
    "conf1=confusion_matrix(y_test, y_pred_1)\n",
    "print(conf1)\n",
    "p = sns.heatmap(pd.DataFrame(conf), annot=True, cmap=\"YlGn\" )\n",
    "plt.title('Confusion matrix', y=1.1)\n",
    "plt.ylabel('Actual label')\n",
    "plt.xlabel('Predicted label')\n",
    "auc_svm = metrics.roc_auc_score(y_test, y_pred_1) #AUC finding\n",
    "print('the auc of svm is :\\t',auc_svm)"
   ]
  },
  {
   "cell_type": "markdown",
   "id": "e5dda649",
   "metadata": {},
   "source": [
    "# SUMMARY\n",
    "#from the above we got to know that there isnt much  big difference between K-nearest neighbour and Support Vector Machine alogrithms.\n",
    "#the K nearest neighbour has the accuracy of 87% and the SVM has the accuracy of  86%. based on these scores i will say my KNN performed slightly better than svm.\n",
    "#but after applying grid search cv , SVM alogrithm performs better by changing its parameters value such as c=0.1 and the score is 98.75. in same way if K-nearest neighbour performs well if its parameters of neighbor=2."
   ]
  },
  {
   "cell_type": "markdown",
   "id": "cadd79f2",
   "metadata": {},
   "source": [
    "# PART 2 UNSUPERVISED LEARNING"
   ]
  },
  {
   "cell_type": "code",
   "execution_count": 309,
   "id": "513235ca",
   "metadata": {},
   "outputs": [],
   "source": [
    "#import libraries\n",
    "\n",
    "import numpy as np\n",
    "import pandas as pd\n",
    "import matplotlib.pyplot as plt \n",
    "import seaborn as sns\n",
    "\n"
   ]
  },
  {
   "cell_type": "code",
   "execution_count": 310,
   "id": "eb9ea5f9",
   "metadata": {},
   "outputs": [
    {
     "name": "stdout",
     "output_type": "stream",
     "text": [
      "                                       Gene Description Gene Accession Number  \\\n",
      "0                   AFFX-BioB-5_at (endogenous control)        AFFX-BioB-5_at   \n",
      "1                   AFFX-BioB-M_at (endogenous control)        AFFX-BioB-M_at   \n",
      "2                   AFFX-BioB-3_at (endogenous control)        AFFX-BioB-3_at   \n",
      "3                   AFFX-BioC-5_at (endogenous control)        AFFX-BioC-5_at   \n",
      "4                   AFFX-BioC-3_at (endogenous control)        AFFX-BioC-3_at   \n",
      "...                                                 ...                   ...   \n",
      "7124  PTGER3 Prostaglandin E receptor 3 (subtype EP3...             X83863_at   \n",
      "7125  HMG2 High-mobility group (nonhistone chromosom...             Z17240_at   \n",
      "7126      RB1 Retinoblastoma 1 (including osteosarcoma)           L49218_f_at   \n",
      "7127  GB DEF = Glycophorin Sta (type A) exons 3 and ...           M71243_f_at   \n",
      "7128                          GB DEF = mRNA (clone 1A7)           Z78285_f_at   \n",
      "\n",
      "          1    2     3      4    5      6     7     8  ...   63   64   65  \\\n",
      "0    -214.0 -139   -76 -135.0 -106 -138.0   -72  -413  ... -161  -48  -62   \n",
      "1    -153.0  -73   -49 -114.0 -125  -85.0  -144  -260  ... -215 -531 -198   \n",
      "2     -58.0   -1  -307  265.0  -76  215.0   238     7  ...  -46 -124   -5   \n",
      "3      88.0  283   309   12.0  168   71.0    55    -2  ...  146  431  141   \n",
      "4    -295.0 -264  -376 -419.0 -230 -272.0  -399  -541  ... -172 -496 -256   \n",
      "...     ...  ...   ...    ...  ...    ...   ...   ...  ...  ...  ...  ...   \n",
      "7124  793.0  782  1138  627.0  250  645.0  1140  1799  ...  809  466  707   \n",
      "7125  329.0  295   777  170.0  314  341.0   482   446  ...  445  349  354   \n",
      "7126   36.0   11    41  -50.0   14   26.0    10    59  ...   -2    0  -22   \n",
      "7127  191.0   76   228  126.0   56  193.0   369   781  ...  210  284  260   \n",
      "7128  -37.0  -14   -41  -91.0  -25  -53.0   -42    20  ...   16  -73    5   \n",
      "\n",
      "        66   67   68   69   70   71   72  \n",
      "0      -58  -76 -154  -79  -55  -59 -131  \n",
      "1     -217  -98 -136 -118  -44 -114 -126  \n",
      "2       63 -153   49  -30   12   23  -50  \n",
      "3       95  237  180   68  129  146  211  \n",
      "4     -191 -215 -257 -110 -108 -171 -206  \n",
      "...    ...  ...  ...  ...  ...  ...  ...  \n",
      "7124   423  441  524  742  320  348  874  \n",
      "7125    41   99  249  234  174  208  393  \n",
      "7126     0   -8   40   72   -4    0   34  \n",
      "7127  1777   80  -68  109  176   74  237  \n",
      "7128   -49  -12   -1  -30   40  -12   -2  \n",
      "\n",
      "[7129 rows x 74 columns]\n",
      "    patient cancer\n",
      "0         1    ALL\n",
      "1         2    ALL\n",
      "2         3    ALL\n",
      "3         4    ALL\n",
      "4         5    ALL\n",
      "..      ...    ...\n",
      "67       68    ALL\n",
      "68       69    ALL\n",
      "69       70    ALL\n",
      "70       71    ALL\n",
      "71       72    ALL\n",
      "\n",
      "[72 rows x 2 columns]\n"
     ]
    }
   ],
   "source": [
    "#import dataset \n",
    "data=pd.read_csv(\"CW2_dataset.csv\")\n",
    "print(data)\n",
    "data_1=pd.read_csv(\"CW2_dataset_PatientID_labels.csv\")\n",
    "print(data_1)"
   ]
  },
  {
   "cell_type": "code",
   "execution_count": 311,
   "id": "13be7344",
   "metadata": {},
   "outputs": [
    {
     "data": {
      "text/plain": [
       "Index(['1', '4', '6', '11', '21', '22', '29', '34', '44', '45', '46'], dtype='object')"
      ]
     },
     "execution_count": 311,
     "metadata": {},
     "output_type": "execute_result"
    }
   ],
   "source": [
    "#missing values\n",
    "a=data.columns[data.isnull().any()]\n",
    "a"
   ]
  },
  {
   "cell_type": "code",
   "execution_count": 312,
   "id": "11e2edc8",
   "metadata": {},
   "outputs": [
    {
     "data": {
      "text/plain": [
       "Gene Description          object\n",
       "Gene Accession Number     object\n",
       "1                        float64\n",
       "2                          int64\n",
       "3                          int64\n",
       "                          ...   \n",
       "68                         int64\n",
       "69                         int64\n",
       "70                         int64\n",
       "71                         int64\n",
       "72                         int64\n",
       "Length: 74, dtype: object"
      ]
     },
     "metadata": {},
     "output_type": "display_data"
    },
    {
     "name": "stdout",
     "output_type": "stream",
     "text": [
      "<class 'pandas.core.frame.DataFrame'>\n",
      "RangeIndex: 7129 entries, 0 to 7128\n",
      "Data columns (total 74 columns):\n",
      " #   Column                 Non-Null Count  Dtype  \n",
      "---  ------                 --------------  -----  \n",
      " 0   Gene Description       7129 non-null   object \n",
      " 1   Gene Accession Number  7129 non-null   object \n",
      " 2   1                      7128 non-null   float64\n",
      " 3   2                      7129 non-null   int64  \n",
      " 4   3                      7129 non-null   int64  \n",
      " 5   4                      7128 non-null   float64\n",
      " 6   5                      7129 non-null   int64  \n",
      " 7   6                      7128 non-null   float64\n",
      " 8   7                      7129 non-null   int64  \n",
      " 9   8                      7129 non-null   int64  \n",
      " 10  9                      7129 non-null   int64  \n",
      " 11  10                     7129 non-null   int64  \n",
      " 12  11                     7128 non-null   float64\n",
      " 13  12                     7129 non-null   int64  \n",
      " 14  13                     7129 non-null   int64  \n",
      " 15  14                     7129 non-null   int64  \n",
      " 16  15                     7129 non-null   int64  \n",
      " 17  16                     7129 non-null   int64  \n",
      " 18  17                     7129 non-null   int64  \n",
      " 19  18                     7129 non-null   int64  \n",
      " 20  19                     7129 non-null   int64  \n",
      " 21  20                     7129 non-null   int64  \n",
      " 22  21                     7128 non-null   float64\n",
      " 23  22                     7128 non-null   float64\n",
      " 24  23                     7129 non-null   int64  \n",
      " 25  24                     7129 non-null   int64  \n",
      " 26  25                     7129 non-null   int64  \n",
      " 27  26                     7129 non-null   int64  \n",
      " 28  27                     7129 non-null   int64  \n",
      " 29  28                     7129 non-null   int64  \n",
      " 30  29                     7128 non-null   float64\n",
      " 31  30                     7129 non-null   int64  \n",
      " 32  31                     7129 non-null   int64  \n",
      " 33  32                     7129 non-null   int64  \n",
      " 34  33                     7129 non-null   int64  \n",
      " 35  34                     7128 non-null   float64\n",
      " 36  35                     7129 non-null   int64  \n",
      " 37  36                     7129 non-null   int64  \n",
      " 38  37                     7129 non-null   int64  \n",
      " 39  38                     7129 non-null   int64  \n",
      " 40  39                     7129 non-null   int64  \n",
      " 41  40                     7129 non-null   int64  \n",
      " 42  41                     7129 non-null   int64  \n",
      " 43  42                     7129 non-null   int64  \n",
      " 44  43                     7129 non-null   int64  \n",
      " 45  44                     7128 non-null   float64\n",
      " 46  45                     7128 non-null   float64\n",
      " 47  46                     7128 non-null   float64\n",
      " 48  47                     7129 non-null   int64  \n",
      " 49  48                     7129 non-null   int64  \n",
      " 50  49                     7129 non-null   int64  \n",
      " 51  50                     7129 non-null   int64  \n",
      " 52  51                     7129 non-null   int64  \n",
      " 53  52                     7129 non-null   int64  \n",
      " 54  53                     7129 non-null   int64  \n",
      " 55  54                     7129 non-null   int64  \n",
      " 56  55                     7129 non-null   int64  \n",
      " 57  56                     7129 non-null   int64  \n",
      " 58  57                     7129 non-null   int64  \n",
      " 59  58                     7129 non-null   int64  \n",
      " 60  59                     7129 non-null   int64  \n",
      " 61  60                     7129 non-null   int64  \n",
      " 62  61                     7129 non-null   int64  \n",
      " 63  62                     7129 non-null   int64  \n",
      " 64  63                     7129 non-null   int64  \n",
      " 65  64                     7129 non-null   int64  \n",
      " 66  65                     7129 non-null   int64  \n",
      " 67  66                     7129 non-null   int64  \n",
      " 68  67                     7129 non-null   int64  \n",
      " 69  68                     7129 non-null   int64  \n",
      " 70  69                     7129 non-null   int64  \n",
      " 71  70                     7129 non-null   int64  \n",
      " 72  71                     7129 non-null   int64  \n",
      " 73  72                     7129 non-null   int64  \n",
      "dtypes: float64(11), int64(61), object(2)\n",
      "memory usage: 4.0+ MB\n"
     ]
    },
    {
     "data": {
      "text/html": [
       "<div>\n",
       "<style scoped>\n",
       "    .dataframe tbody tr th:only-of-type {\n",
       "        vertical-align: middle;\n",
       "    }\n",
       "\n",
       "    .dataframe tbody tr th {\n",
       "        vertical-align: top;\n",
       "    }\n",
       "\n",
       "    .dataframe thead th {\n",
       "        text-align: right;\n",
       "    }\n",
       "</style>\n",
       "<table border=\"1\" class=\"dataframe\">\n",
       "  <thead>\n",
       "    <tr style=\"text-align: right;\">\n",
       "      <th></th>\n",
       "      <th>count</th>\n",
       "      <th>mean</th>\n",
       "      <th>std</th>\n",
       "      <th>min</th>\n",
       "      <th>25%</th>\n",
       "      <th>50%</th>\n",
       "      <th>75%</th>\n",
       "      <th>max</th>\n",
       "    </tr>\n",
       "  </thead>\n",
       "  <tbody>\n",
       "    <tr>\n",
       "      <th>1</th>\n",
       "      <td>7128.0</td>\n",
       "      <td>641.226010</td>\n",
       "      <td>2264.421873</td>\n",
       "      <td>-19826.0</td>\n",
       "      <td>-21.0</td>\n",
       "      <td>159.0</td>\n",
       "      <td>535.00</td>\n",
       "      <td>31086.0</td>\n",
       "    </tr>\n",
       "    <tr>\n",
       "      <th>2</th>\n",
       "      <td>7129.0</td>\n",
       "      <td>690.246318</td>\n",
       "      <td>2468.814372</td>\n",
       "      <td>-17930.0</td>\n",
       "      <td>-14.0</td>\n",
       "      <td>130.0</td>\n",
       "      <td>488.00</td>\n",
       "      <td>29288.0</td>\n",
       "    </tr>\n",
       "    <tr>\n",
       "      <th>3</th>\n",
       "      <td>7129.0</td>\n",
       "      <td>698.307897</td>\n",
       "      <td>2485.656277</td>\n",
       "      <td>-27182.0</td>\n",
       "      <td>-31.0</td>\n",
       "      <td>177.0</td>\n",
       "      <td>610.00</td>\n",
       "      <td>28056.0</td>\n",
       "    </tr>\n",
       "    <tr>\n",
       "      <th>4</th>\n",
       "      <td>7128.0</td>\n",
       "      <td>600.972643</td>\n",
       "      <td>2340.211347</td>\n",
       "      <td>-23396.0</td>\n",
       "      <td>-33.0</td>\n",
       "      <td>139.0</td>\n",
       "      <td>496.25</td>\n",
       "      <td>31449.0</td>\n",
       "    </tr>\n",
       "    <tr>\n",
       "      <th>5</th>\n",
       "      <td>7129.0</td>\n",
       "      <td>679.532894</td>\n",
       "      <td>2375.895416</td>\n",
       "      <td>-10339.0</td>\n",
       "      <td>8.0</td>\n",
       "      <td>146.0</td>\n",
       "      <td>471.00</td>\n",
       "      <td>29543.0</td>\n",
       "    </tr>\n",
       "    <tr>\n",
       "      <th>...</th>\n",
       "      <td>...</td>\n",
       "      <td>...</td>\n",
       "      <td>...</td>\n",
       "      <td>...</td>\n",
       "      <td>...</td>\n",
       "      <td>...</td>\n",
       "      <td>...</td>\n",
       "      <td>...</td>\n",
       "    </tr>\n",
       "    <tr>\n",
       "      <th>68</th>\n",
       "      <td>7129.0</td>\n",
       "      <td>734.933511</td>\n",
       "      <td>2433.042040</td>\n",
       "      <td>-12527.0</td>\n",
       "      <td>-3.0</td>\n",
       "      <td>143.0</td>\n",
       "      <td>537.00</td>\n",
       "      <td>29374.0</td>\n",
       "    </tr>\n",
       "    <tr>\n",
       "      <th>69</th>\n",
       "      <td>7129.0</td>\n",
       "      <td>744.386590</td>\n",
       "      <td>2396.618703</td>\n",
       "      <td>-10279.0</td>\n",
       "      <td>1.0</td>\n",
       "      <td>154.0</td>\n",
       "      <td>554.00</td>\n",
       "      <td>26073.0</td>\n",
       "    </tr>\n",
       "    <tr>\n",
       "      <th>70</th>\n",
       "      <td>7129.0</td>\n",
       "      <td>520.213354</td>\n",
       "      <td>2362.872338</td>\n",
       "      <td>-11535.0</td>\n",
       "      <td>-17.0</td>\n",
       "      <td>75.0</td>\n",
       "      <td>293.00</td>\n",
       "      <td>39827.0</td>\n",
       "    </tr>\n",
       "    <tr>\n",
       "      <th>71</th>\n",
       "      <td>7129.0</td>\n",
       "      <td>575.054987</td>\n",
       "      <td>2309.515245</td>\n",
       "      <td>-10873.0</td>\n",
       "      <td>-6.0</td>\n",
       "      <td>108.0</td>\n",
       "      <td>375.00</td>\n",
       "      <td>28409.0</td>\n",
       "    </tr>\n",
       "    <tr>\n",
       "      <th>72</th>\n",
       "      <td>7129.0</td>\n",
       "      <td>617.254454</td>\n",
       "      <td>2302.908490</td>\n",
       "      <td>-8646.0</td>\n",
       "      <td>-11.0</td>\n",
       "      <td>129.0</td>\n",
       "      <td>434.00</td>\n",
       "      <td>32358.0</td>\n",
       "    </tr>\n",
       "  </tbody>\n",
       "</table>\n",
       "<p>72 rows × 8 columns</p>\n",
       "</div>"
      ],
      "text/plain": [
       "     count        mean          std      min   25%    50%     75%      max\n",
       "1   7128.0  641.226010  2264.421873 -19826.0 -21.0  159.0  535.00  31086.0\n",
       "2   7129.0  690.246318  2468.814372 -17930.0 -14.0  130.0  488.00  29288.0\n",
       "3   7129.0  698.307897  2485.656277 -27182.0 -31.0  177.0  610.00  28056.0\n",
       "4   7128.0  600.972643  2340.211347 -23396.0 -33.0  139.0  496.25  31449.0\n",
       "5   7129.0  679.532894  2375.895416 -10339.0   8.0  146.0  471.00  29543.0\n",
       "..     ...         ...          ...      ...   ...    ...     ...      ...\n",
       "68  7129.0  734.933511  2433.042040 -12527.0  -3.0  143.0  537.00  29374.0\n",
       "69  7129.0  744.386590  2396.618703 -10279.0   1.0  154.0  554.00  26073.0\n",
       "70  7129.0  520.213354  2362.872338 -11535.0 -17.0   75.0  293.00  39827.0\n",
       "71  7129.0  575.054987  2309.515245 -10873.0  -6.0  108.0  375.00  28409.0\n",
       "72  7129.0  617.254454  2302.908490  -8646.0 -11.0  129.0  434.00  32358.0\n",
       "\n",
       "[72 rows x 8 columns]"
      ]
     },
     "execution_count": 312,
     "metadata": {},
     "output_type": "execute_result"
    }
   ],
   "source": [
    "display(data.dtypes)\n",
    "data.info()\n",
    "data.describe().T"
   ]
  },
  {
   "cell_type": "code",
   "execution_count": 313,
   "id": "42b5517d",
   "metadata": {},
   "outputs": [
    {
     "name": "stdout",
     "output_type": "stream",
     "text": [
      "     0      1      2      3      4      5      6      7      8      9     ...  \\\n",
      "1  -214.0 -153.0  -58.0   88.0 -295.0 -558.0  199.0 -176.0  252.0  206.0  ...   \n",
      "2  -139.0  -73.0   -1.0  283.0 -264.0 -400.0 -330.0 -168.0  101.0   74.0  ...   \n",
      "3   -76.0  -49.0 -307.0  309.0 -376.0 -650.0   33.0 -367.0  206.0 -215.0  ...   \n",
      "4  -135.0 -114.0  265.0   12.0 -419.0 -585.0  158.0 -253.0   49.0   31.0  ...   \n",
      "5  -106.0 -125.0  -76.0  168.0 -230.0 -284.0    4.0 -122.0   70.0  252.0  ...   \n",
      "..    ...    ...    ...    ...    ...    ...    ...    ...    ...    ...  ...   \n",
      "68 -154.0 -136.0   49.0  180.0 -257.0 -273.0  141.0 -123.0   52.0  878.0  ...   \n",
      "69  -79.0 -118.0  -30.0   68.0 -110.0 -264.0  -28.0  -61.0   40.0 -217.0  ...   \n",
      "70  -55.0  -44.0   12.0  129.0 -108.0 -301.0 -222.0 -133.0  136.0  320.0  ...   \n",
      "71  -59.0 -114.0   23.0  146.0 -171.0 -227.0  -73.0 -126.0   -6.0  149.0  ...   \n",
      "72 -131.0 -126.0  -50.0  211.0 -206.0 -287.0  -34.0 -114.0   62.0  341.0  ...   \n",
      "\n",
      "     7119    7120   7121    7122   7123    7124   7125  7126   7127  7128  \n",
      "1   185.0   511.0 -125.0   389.0  -37.0   793.0  329.0  36.0  191.0 -37.0  \n",
      "2   169.0   837.0  -36.0   442.0  -17.0   782.0  295.0  11.0   76.0 -14.0  \n",
      "3   315.0  1199.0   33.0   168.0   52.0  1138.0  777.0  41.0  228.0 -41.0  \n",
      "4   240.0   835.0  218.0   174.0 -110.0   627.0  170.0 -50.0  126.0 -91.0  \n",
      "5   156.0   649.0   57.0   504.0  -26.0   250.0  314.0  14.0   56.0 -25.0  \n",
      "..    ...     ...    ...     ...    ...     ...    ...   ...    ...   ...  \n",
      "68  214.0   540.0   13.0  1075.0  -45.0   524.0  249.0  40.0  -68.0  -1.0  \n",
      "69  409.0   617.0  -34.0   738.0   11.0   742.0  234.0  72.0  109.0 -30.0  \n",
      "70  131.0   318.0   35.0   241.0  -66.0   320.0  174.0  -4.0  176.0  40.0  \n",
      "71  214.0   760.0  -38.0   201.0  -55.0   348.0  208.0   0.0   74.0 -12.0  \n",
      "72  206.0   697.0    3.0  1046.0   27.0   874.0  393.0  34.0  237.0  -2.0  \n",
      "\n",
      "[72 rows x 7129 columns]\n",
      "[[-214. -153.  -58. ...   36.  191.  -37.]\n",
      " [-139.  -73.   -1. ...   11.   76.  -14.]\n",
      " [ -76.  -49. -307. ...   41.  228.  -41.]\n",
      " ...\n",
      " [ -55.  -44.   12. ...   -4.  176.   40.]\n",
      " [ -59. -114.   23. ...    0.   74.  -12.]\n",
      " [-131. -126.  -50. ...   34.  237.   -2.]]\n"
     ]
    }
   ],
   "source": [
    "colmns=['Gene Description','Gene Accession Number']\n",
    "# b=data.drop(['Gene Description','Gene Accession Number'],axis=1,inplace=True)\n",
    "b=data.drop(columns=colmns)\n",
    "c=b.T\n",
    "print(c)\n",
    "from sklearn.impute import SimpleImputer\n",
    "imputer = SimpleImputer(missing_values=np.nan, strategy='mean')\n",
    "imputer.fit(c)\n",
    "X = imputer.transform(c)\n",
    "print(X)"
   ]
  },
  {
   "cell_type": "code",
   "execution_count": 314,
   "id": "b7fa3d29",
   "metadata": {},
   "outputs": [
    {
     "name": "stdout",
     "output_type": "stream",
     "text": [
      "[[-1.02430984  0.07463337 -0.40979439 ...  0.59311854 -0.39137774\n",
      "  -0.16111696]\n",
      " [-0.25156981  0.91262207  0.05802096 ...  0.03210258 -0.57699018\n",
      "   0.41514587]\n",
      " [ 0.39753182  1.16401868 -2.4534088  ...  0.70532173 -0.33165895\n",
      "  -0.26133658]\n",
      " ...\n",
      " [ 0.61389902  1.21639298  0.16471569 ... -0.30450699 -0.41558806\n",
      "   1.76811076]\n",
      " [ 0.57268622  0.48315286  0.25499584 ... -0.21474444 -0.58021822\n",
      "   0.46525568]\n",
      " [-0.16914421  0.35745456 -0.34413609 ...  0.54823726 -0.31713276\n",
      "   0.71580473]]\n",
      "0     0\n",
      "1     0\n",
      "2     0\n",
      "3     0\n",
      "4     0\n",
      "     ..\n",
      "67    0\n",
      "68    0\n",
      "69    0\n",
      "70    0\n",
      "71    0\n",
      "Name: cancer, Length: 72, dtype: int32\n"
     ]
    },
    {
     "data": {
      "text/plain": [
       "0    47\n",
       "1    25\n",
       "Name: cancer, dtype: int64"
      ]
     },
     "execution_count": 314,
     "metadata": {},
     "output_type": "execute_result"
    }
   ],
   "source": [
    "from sklearn.preprocessing import StandardScaler as mn\n",
    "scaling=mn()\n",
    "scale=scaling.fit_transform(X)\n",
    "scale.min(axis=0)\n",
    "scale.max(axis=0)\n",
    "print(scale)\n",
    "\n",
    "\n",
    "#Encoding the catergorical data\n",
    "from sklearn.preprocessing import LabelEncoder\n",
    "encode=LabelEncoder()\n",
    "data_1[\"cancer\"]=encode.fit_transform(data_1[\"cancer\"])\n",
    "\n",
    "print(data_1[\"cancer\"])\n",
    "data_1[\"cancer\"].value_counts()"
   ]
  },
  {
   "cell_type": "code",
   "execution_count": 315,
   "id": "8c1b6fba",
   "metadata": {},
   "outputs": [],
   "source": [
    "labels=data_1[\"cancer\"]"
   ]
  },
  {
   "cell_type": "code",
   "execution_count": 316,
   "id": "a0532157",
   "metadata": {},
   "outputs": [],
   "source": [
    "from sklearn import decomposition\n",
    "from sklearn.decomposition import PCA"
   ]
  },
  {
   "cell_type": "code",
   "execution_count": 317,
   "id": "0b643842",
   "metadata": {},
   "outputs": [],
   "source": [
    "pca=decomposition.PCA()\n",
    "\n",
    "pca=PCA(n_components=2)\n"
   ]
  },
  {
   "cell_type": "code",
   "execution_count": 318,
   "id": "caa86761",
   "metadata": {},
   "outputs": [],
   "source": [
    "x_pca=pca.fit_transform(scale)"
   ]
  },
  {
   "cell_type": "code",
   "execution_count": 319,
   "id": "6a88c997",
   "metadata": {},
   "outputs": [
    {
     "name": "stdout",
     "output_type": "stream",
     "text": [
      "2\n",
      "0.40706200674136805\n",
      "3\n",
      "0.45385309963429865\n",
      "4\n",
      "0.45017968055560587\n",
      "5\n",
      "0.4540365680657072\n",
      "6\n",
      "0.43295621699935033\n",
      "7\n",
      "0.3909931602264012\n",
      "8\n",
      "0.43313956671460024\n",
      "9\n",
      "0.39712677372908733\n",
      "10\n",
      "0.3925011269626114\n"
     ]
    }
   ],
   "source": [
    "#using silhoutte to find optimal k values\n",
    "from sklearn.cluster import KMeans\n",
    "from sklearn.metrics import silhouette_samples,silhouette_score\n",
    "sil_score_kmeans = []\n",
    "for n in range(2, 11):\n",
    "    kmean = KMeans(n_clusters=n)\n",
    "    kmean_labels = kmean.fit_predict(x_pca)\n",
    "    print(n)\n",
    "    kmean_score = silhouette_score(x_pca, kmean_labels)\n",
    "    print(kmean_score)\n",
    "    sil_score_kmeans.append(kmean_score)"
   ]
  },
  {
   "cell_type": "code",
   "execution_count": 320,
   "id": "ce17df9f",
   "metadata": {},
   "outputs": [
    {
     "name": "stdout",
     "output_type": "stream",
     "text": [
      "[1 2 1 1 2 0 1 1 2 0 0 0 2 2 2 0 2 0 0 2 0 0 0 2 0 0 1 1 0 1 1 1 1 1 1 1 1\n",
      " 1 1 1 0 0 0 0 0 0 0 2 1 1 1 0 1 0 0 1 0 1 0 0 1 1 1 1 0 0 0 2 2 0 0 0]\n"
     ]
    }
   ],
   "source": [
    "#best k value=3\n",
    "kmeans = KMeans(n_clusters=3)\n",
    "kmean_label = kmeans.fit_predict(x_pca)\n",
    "print(kmean_label)"
   ]
  },
  {
   "cell_type": "code",
   "execution_count": 321,
   "id": "e19c69d4",
   "metadata": {},
   "outputs": [
    {
     "data": {
      "image/png": "[encoded data removed]",
      "text/plain": [
       "<Figure size 432x288 with 1 Axes>"
      ]
     },
     "metadata": {
      "needs_background": "light"
     },
     "output_type": "display_data"
    }
   ],
   "source": [
    "#visualizing the clusters\n",
    "plt.scatter(x_pca[kmean_label == 0, 0], x_pca[kmean_label == 0, 1], s = 100, c = 'red', label = 'Cluster 1')\n",
    "plt.scatter(x_pca[kmean_label == 1, 0], x_pca[kmean_label == 1, 1], s = 100, c = 'blue', label = 'Cluster 2')\n",
    "plt.scatter(x_pca[kmean_label == 2, 0], x_pca[kmean_label == 2, 1], s = 100, c = 'green', label = 'Cluster 3')\n",
    "plt.scatter(kmean_label, kmean_label, s = 300, c = 'orange', label = 'Centroids')\n",
    "plt.title('Clusters of data')\n",
    "plt.legend()\n",
    "plt.show()"
   ]
  },
  {
   "cell_type": "code",
   "execution_count": 322,
   "id": "d2bb62e5",
   "metadata": {},
   "outputs": [
    {
     "name": "stdout",
     "output_type": "stream",
     "text": [
      "adjusted_rand_score:\t 0.11817051516157924\n",
      "adjusted_mutual_info: 0.1756071809492235\n",
      "homogeneity_score: 0.24588910408038955\n",
      "complete_score: 0.15469973752038732\n",
      "v_measure_score: 0.18991532419302262\n"
     ]
    }
   ],
   "source": [
    "# metrics for clustering \n",
    "adjusted=metrics.adjusted_rand_score(labels,kmean_label )\n",
    "print('adjusted_rand_score:\\t',adjusted)\n",
    "mutual_info=metrics.adjusted_mutual_info_score(labels,kmean_label,average_method='arithmetic')\n",
    "print('adjusted_mutual_info:',mutual_info)\n",
    "homo=metrics.homogeneity_score(labels,kmean_label)\n",
    "print('homogeneity_score:',homo)\n",
    "complete=metrics.completeness_score(labels,kmean_label)\n",
    "print('complete_score:',complete)\n",
    "vmeasure=metrics.v_measure_score(labels,kmean_label)\n",
    "print('v_measure_score:',vmeasure)\n"
   ]
  },
  {
   "cell_type": "code",
   "execution_count": null,
   "id": "e943f62c",
   "metadata": {},
   "outputs": [],
   "source": []
  },
  {
   "cell_type": "code",
   "execution_count": 323,
   "id": "8ebf4b73",
   "metadata": {},
   "outputs": [
    {
     "data": {
      "image/png": "[encoded data removed]",
      "text/plain": [
       "<Figure size 432x288 with 1 Axes>"
      ]
     },
     "metadata": {
      "needs_background": "light"
     },
     "output_type": "display_data"
    }
   ],
   "source": [
    "#heirarchial clustering\n",
    "import scipy.cluster.hierarchy as hier\n",
    "dendrogram_ward = hier.dendrogram(hier.linkage(x_pca, method = 'ward'))\n",
    "plt.title('Ward')\n",
    "plt.ylabel('Euclidean distances')\n",
    "plt.show()"
   ]
  },
  {
   "cell_type": "code",
   "execution_count": 324,
   "id": "190bdfdb",
   "metadata": {},
   "outputs": [
    {
     "data": {
      "image/png": "[encoded data removed]",
      "text/plain": [
       "<Figure size 432x288 with 1 Axes>"
      ]
     },
     "metadata": {
      "needs_background": "light"
     },
     "output_type": "display_data"
    }
   ],
   "source": [
    "#complete method\n",
    "dendrogram_Complete = hier.dendrogram(hier.linkage(x_pca, method = 'complete'))\n",
    "plt.title('Complete')\n",
    "plt.ylabel('Euclidean distances')\n",
    "plt.show()"
   ]
  },
  {
   "cell_type": "code",
   "execution_count": 325,
   "id": "4d68f710",
   "metadata": {},
   "outputs": [
    {
     "data": {
      "image/png": "[encoded data removed]",
      "text/plain": [
       "<Figure size 432x288 with 1 Axes>"
      ]
     },
     "metadata": {
      "needs_background": "light"
     },
     "output_type": "display_data"
    }
   ],
   "source": [
    "#average_method\n",
    "dendrogram_Average = hier.dendrogram(hier.linkage(x_pca, method = 'average'))\n",
    "plt.title('Average')\n",
    "plt.ylabel('Euclidean distances')\n",
    "plt.show()"
   ]
  },
  {
   "cell_type": "code",
   "execution_count": 326,
   "id": "2fb6b4af",
   "metadata": {},
   "outputs": [
    {
     "data": {
      "text/plain": [
       "Text(0, 0.5, 'Euclidean distances')"
      ]
     },
     "execution_count": 326,
     "metadata": {},
     "output_type": "execute_result"
    },
    {
     "data": {
      "image/png": "[encoded data removed]",
      "text/plain": [
       "<Figure size 432x288 with 1 Axes>"
      ]
     },
     "metadata": {
      "needs_background": "light"
     },
     "output_type": "display_data"
    }
   ],
   "source": [
    "#single_method\n",
    "dendrogram_Single = hier.dendrogram(hier.linkage(x_pca, method = 'single'))\n",
    "plt.title('Single')\n",
    "plt.ylabel('Euclidean distances')"
   ]
  },
  {
   "cell_type": "code",
   "execution_count": 327,
   "id": "100f3faf",
   "metadata": {},
   "outputs": [],
   "source": [
    "#Agglomerative approach\n",
    "from sklearn.cluster import AgglomerativeClustering\n",
    "sil_score_hier = []"
   ]
  },
  {
   "cell_type": "code",
   "execution_count": 328,
   "id": "33642bb7",
   "metadata": {},
   "outputs": [
    {
     "name": "stdout",
     "output_type": "stream",
     "text": [
      "2\n",
      "0.37965185478873253\n",
      "3\n",
      "0.43368718355509955\n",
      "4\n",
      "0.41243277468818396\n",
      "5\n",
      "0.4231399571218465\n",
      "6\n",
      "0.3799851992880453\n",
      "7\n",
      "0.38891416641320586\n",
      "8\n",
      "0.38822772725739285\n",
      "9\n",
      "0.37532113676113715\n",
      "10\n",
      "0.3686414140748512\n"
     ]
    }
   ],
   "source": [
    "for n in range(2, 11):\n",
    "    print(n)\n",
    "    hc = AgglomerativeClustering(n_clusters = n, affinity = 'euclidean', linkage = 'ward')\n",
    "    hcs = hc.fit_predict(x_pca)\n",
    "    hc_score = silhouette_score(x_pca, hcs)\n",
    "    print(hc_score)\n",
    "    sil_score_hier.append(hc_score)"
   ]
  },
  {
   "cell_type": "code",
   "execution_count": 329,
   "id": "eef6ee6d",
   "metadata": {},
   "outputs": [],
   "source": [
    "hc = AgglomerativeClustering(n_clusters = 3, affinity = 'euclidean', linkage = 'ward')\n",
    "hcs= hc.fit_predict(x_pca)"
   ]
  },
  {
   "cell_type": "code",
   "execution_count": 330,
   "id": "ed08fa6a",
   "metadata": {},
   "outputs": [
    {
     "name": "stdout",
     "output_type": "stream",
     "text": [
      "adjusted_rand_score:\t 0.08856337757376577\n",
      "adjusted_mutual_info: 0.15148374923216656\n",
      "homogeneity_score: 0.21217356552718752\n",
      "complete_score: 0.1370889829828751\n",
      "v_measure_score: 0.1665604195929672\n"
     ]
    }
   ],
   "source": [
    "adjusted=metrics.adjusted_rand_score(labels,hcs)\n",
    "print('adjusted_rand_score:\\t',adjusted)\n",
    "mutual_info=metrics.adjusted_mutual_info_score(labels,hcs,average_method='arithmetic')\n",
    "print('adjusted_mutual_info:',mutual_info)\n",
    "homo=metrics.homogeneity_score(labels,hcs)\n",
    "print('homogeneity_score:',homo)\n",
    "complete=metrics.completeness_score(labels,hcs)\n",
    "print('complete_score:',complete)\n",
    "vmeasure=metrics.v_measure_score(labels,hcs)\n",
    "print('v_measure_score:',vmeasure)\n"
   ]
  },
  {
   "cell_type": "code",
   "execution_count": 331,
   "id": "6916fadb",
   "metadata": {
    "scrolled": true
   },
   "outputs": [
    {
     "data": {
      "image/png": "[encoded data removed]",
      "text/plain": [
       "<Figure size 432x288 with 1 Axes>"
      ]
     },
     "metadata": {
      "needs_background": "light"
     },
     "output_type": "display_data"
    }
   ],
   "source": [
    "plt.scatter(x_pca[hcs == 0, 0], x_pca[hcs == 0, 1], s = 100, c = 'red', label = 'Cluster 1')\n",
    "plt.scatter(x_pca[hcs == 1, 0], x_pca[hcs == 1, 1], s = 100, c = 'blue', label = 'Cluster 2')\n",
    "plt.scatter(x_pca[hcs == 2, 0], x_pca[hcs == 2, 1], s = 100, c = 'green', label = 'Cluster 3')\n",
    "\n",
    "plt.title('Clusters ')\n",
    "plt.legend()\n",
    "plt.show()"
   ]
  },
  {
   "cell_type": "markdown",
   "id": "50ee7591",
   "metadata": {},
   "source": [
    "# SUMMARY\n",
    "Both Kmeans and hierarchical clustering methods adds successively nearby points to form the nearest group. Here we can see the adjusted_rand_score of kmeans is 0.118 ,adjusted mutual info is 0.175,homogeneity score is 0.245,completeness score is 0.137 and v-measure is 0.166. All these values gives idea about how k means clustering performed and values shows they fall well in the range. hierarchical method provides around 0.088 as adjusted_rand_score,adjusted mutual info is 0.155,homogeneity score is 0.212,completeness score is 0.154 and v-measure is 0.18. the values of hierarchial clustering also falls within the range  and their individual outliners are highly visible from the plotting. The cluster group are formed around 3 clusters in kmeans and 3 clusters in Hierarchical technique. As we know that hierarchical cluster doesn't require any predefined number of clusters, we can build the hierarchical level of cluster analysis whereas for k-means, we got to know the predefined cluster numbers.\n"
   ]
  },
  {
   "cell_type": "code",
   "execution_count": null,
   "id": "ae1bb786",
   "metadata": {},
   "outputs": [],
   "source": []
  }
 ],
 "metadata": {
  "kernelspec": {
   "display_name": "Python 3 (ipykernel)",
   "language": "python",
   "name": "python3"
  },
  "language_info": {
   "codemirror_mode": {
    "name": "ipython",
    "version": 3
   },
   "file_extension": ".py",
   "mimetype": "text/x-python",
   "name": "python",
   "nbconvert_exporter": "python",
   "pygments_lexer": "ipython3",
   "version": "3.9.7"
  }
 },
 "nbformat": 4,
 "nbformat_minor": 5
}
